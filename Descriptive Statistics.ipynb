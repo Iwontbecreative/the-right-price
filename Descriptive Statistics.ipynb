{
 "cells": [
  {
   "cell_type": "code",
   "execution_count": 1,
   "metadata": {
    "collapsed": true
   },
   "outputs": [],
   "source": [
    "%matplotlib inline\n",
    "import numpy as np\n",
    "import pandas as pd\n",
    "import matplotlib.pyplot as plt\n",
    "import seaborn as sns\n",
    "sns.set()"
   ]
  },
  {
   "cell_type": "code",
   "execution_count": 2,
   "metadata": {
    "collapsed": true
   },
   "outputs": [],
   "source": [
    "data = pd.read_csv('all_items_improved.csv', sep=',')"
   ]
  },
  {
   "cell_type": "markdown",
   "metadata": {},
   "source": [
    "#### Potential bugs found :\n",
    "- numbers in the menu item text (meat weight for instance, nb of snails 6/12 + price in the text)\n",
    "- prices negative (special offers for lunch menus, ..)\n",
    "- zip codes missing\n",
    "- comma forgotten in the price (2700 instead of 27,00)\n",
    "\n",
    "#### Observations : \n",
    "- tags only in the first row of each restaurants\n",
    "- rest_avg_price does not represent the average price of a restaurant item but rather the average price of eating at the restaurant under the opinion of the owner."
   ]
  },
  {
   "cell_type": "markdown",
   "metadata": {},
   "source": [
    "## Improving/Debugging the data"
   ]
  },
  {
   "cell_type": "markdown",
   "metadata": {},
   "source": [
    "### Supressing negative price (special offers on the menu, ex : -1e for lunch)"
   ]
  },
  {
   "cell_type": "code",
   "execution_count": 3,
   "metadata": {
    "collapsed": true
   },
   "outputs": [],
   "source": [
    "data = data[data.item_price > 0]"
   ]
  },
  {
   "cell_type": "markdown",
   "metadata": {},
   "source": [
    "### 'location' feature, switching to zip codes"
   ]
  },
  {
   "cell_type": "code",
   "execution_count": 4,
   "metadata": {
    "collapsed": true
   },
   "outputs": [],
   "source": [
    "data['rest_location'] = data['rest_location'].apply(lambda x: x.split(\"\\n\")[1].strip())\n",
    "data['rest_location'] = data['rest_location'].replace('', '0').replace('Bercy Village', '0').astype(int)"
   ]
  },
  {
   "cell_type": "code",
   "execution_count": 5,
   "metadata": {},
   "outputs": [
    {
     "data": {
      "text/plain": [
       "array([    0, 75002, 75018, 75015, 75006, 75010, 75017, 75014, 75008,\n",
       "       75012, 75003, 75011, 75005, 75001, 75007, 75020, 75019, 75004,\n",
       "       75116, 75013, 75009, 75016])"
      ]
     },
     "execution_count": 5,
     "metadata": {},
     "output_type": "execute_result"
    }
   ],
   "source": [
    "data['rest_location'].unique()"
   ]
  },
  {
   "cell_type": "markdown",
   "metadata": {},
   "source": [
    "### Dropping item_prices with prices over 200e \n",
    "##### (noise + errors in the comma location most of the times), will only affect a little our predictions for wine and champagne"
   ]
  },
  {
   "cell_type": "code",
   "execution_count": 6,
   "metadata": {
    "collapsed": true
   },
   "outputs": [],
   "source": [
    "data = data[data.item_price < 200]"
   ]
  },
  {
   "cell_type": "markdown",
   "metadata": {},
   "source": [
    "## Descriptive Statistics"
   ]
  },
  {
   "cell_type": "markdown",
   "metadata": {},
   "source": [
    "### Dataset Size"
   ]
  },
  {
   "cell_type": "code",
   "execution_count": 7,
   "metadata": {},
   "outputs": [
    {
     "name": "stdout",
     "output_type": "stream",
     "text": [
      "Number of restaurants:  4599\n",
      "Number of menu items:  80379\n"
     ]
    }
   ],
   "source": [
    "print('Number of restaurants: ', data.rest_name.nunique())\n",
    "print('Number of menu items: ', data.shape[0])"
   ]
  },
  {
   "cell_type": "markdown",
   "metadata": {},
   "source": [
    "### Menu items prices Distribution"
   ]
  },
  {
   "cell_type": "code",
   "execution_count": 8,
   "metadata": {},
   "outputs": [
    {
     "data": {
      "text/plain": [
       "mean     13.9\n",
       "std      13.9\n",
       "min       0.6\n",
       "25%       6.0\n",
       "50%      10.0\n",
       "75%      16.5\n",
       "max     199.0\n",
       "Name: item_price, dtype: float64"
      ]
     },
     "execution_count": 8,
     "metadata": {},
     "output_type": "execute_result"
    }
   ],
   "source": [
    "data.item_price.describe()[1:].round(1)"
   ]
  },
  {
   "cell_type": "code",
   "execution_count": 9,
   "metadata": {},
   "outputs": [
    {
     "name": "stdout",
     "output_type": "stream",
     "text": [
      "Proportion of items < 10€: 49.43%\n",
      "Proportion of items > 100€: 0.21%\n"
     ]
    },
    {
     "data": {
      "image/png": "[encoded data removed]",
      "text/plain": [
       "<matplotlib.figure.Figure at 0x7f0a7ec57d30>"
      ]
     },
     "metadata": {},
     "output_type": "display_data"
    }
   ],
   "source": [
    "nb_items = float(len(data.item_price))\n",
    "print('Proportion of items < 10€: {0:.2f}%'.format(100*(data.item_price < 10).sum()/nb_items))\n",
    "print('Proportion of items > 100€: {0:.2f}%'.format(100*(data.item_price > 100).sum()/nb_items))\n",
    "\n",
    "a=plt.hist(data[data.item_price < 100].item_price, bins=50)\n",
    "plt.title('Menu items prices Distribution', fontsize = 14);"
   ]
  },
  {
   "cell_type": "markdown",
   "metadata": {},
   "source": [
    "### The Fork average prices / ratings"
   ]
  },
  {
   "cell_type": "code",
   "execution_count": 10,
   "metadata": {},
   "outputs": [
    {
     "data": {
      "text/html": [
       "<div>\n",
       "<style>\n",
       "    .dataframe thead tr:only-child th {\n",
       "        text-align: right;\n",
       "    }\n",
       "\n",
       "    .dataframe thead th {\n",
       "        text-align: left;\n",
       "    }\n",
       "\n",
       "    .dataframe tbody tr th {\n",
       "        vertical-align: top;\n",
       "    }\n",
       "</style>\n",
       "<table border=\"1\" class=\"dataframe\">\n",
       "  <thead>\n",
       "    <tr style=\"text-align: right;\">\n",
       "      <th></th>\n",
       "      <th>rest_avg_price</th>\n",
       "      <th>rest_global_rating</th>\n",
       "    </tr>\n",
       "  </thead>\n",
       "  <tbody>\n",
       "    <tr>\n",
       "      <th>mean</th>\n",
       "      <td>29.6</td>\n",
       "      <td>8.4</td>\n",
       "    </tr>\n",
       "    <tr>\n",
       "      <th>std</th>\n",
       "      <td>18.3</td>\n",
       "      <td>1.0</td>\n",
       "    </tr>\n",
       "    <tr>\n",
       "      <th>min</th>\n",
       "      <td>9.0</td>\n",
       "      <td>2.0</td>\n",
       "    </tr>\n",
       "    <tr>\n",
       "      <th>25%</th>\n",
       "      <td>20.0</td>\n",
       "      <td>8.1</td>\n",
       "    </tr>\n",
       "    <tr>\n",
       "      <th>50%</th>\n",
       "      <td>25.0</td>\n",
       "      <td>8.6</td>\n",
       "    </tr>\n",
       "    <tr>\n",
       "      <th>75%</th>\n",
       "      <td>34.0</td>\n",
       "      <td>9.0</td>\n",
       "    </tr>\n",
       "    <tr>\n",
       "      <th>max</th>\n",
       "      <td>330.0</td>\n",
       "      <td>10.0</td>\n",
       "    </tr>\n",
       "  </tbody>\n",
       "</table>\n",
       "</div>"
      ],
      "text/plain": [
       "      rest_avg_price  rest_global_rating\n",
       "mean            29.6                 8.4\n",
       "std             18.3                 1.0\n",
       "min              9.0                 2.0\n",
       "25%             20.0                 8.1\n",
       "50%             25.0                 8.6\n",
       "75%             34.0                 9.0\n",
       "max            330.0                10.0"
      ]
     },
     "execution_count": 10,
     "metadata": {},
     "output_type": "execute_result"
    }
   ],
   "source": [
    "data.drop_duplicates(['rest_name'])[['rest_avg_price', 'rest_global_rating']].describe().round(1)[1:]"
   ]
  },
  {
   "cell_type": "markdown",
   "metadata": {},
   "source": [
    "### Price disparities between locations"
   ]
  },
  {
   "cell_type": "code",
   "execution_count": 11,
   "metadata": {},
   "outputs": [
    {
     "data": {
      "image/png": "[encoded data removed]",
      "text/plain": [
       "<matplotlib.figure.Figure at 0x7f0a7ec57828>"
      ]
     },
     "metadata": {},
     "output_type": "display_data"
    }
   ],
   "source": [
    "df = data.groupby(data.rest_name).first()\n",
    "price_location = df.groupby(df.rest_location).rest_avg_price.mean()\n",
    "\n",
    "x_axis = range(len(price_location))\n",
    "big_fig = plt.figure(1, figsize=(15,7))\n",
    "fig = plt.subplot(111)\n",
    "fig.bar(x_axis, price_location.values)\n",
    "fig.set_xticks(x_axis)\n",
    "fig.set_xticklabels(price_location.index)\n",
    "fig.set_title('Price disparities between locations', fontsize=16)\n",
    "plt.show();"
   ]
  },
  {
   "cell_type": "markdown",
   "metadata": {},
   "source": [
    "### Price standard deviation per restaurant"
   ]
  },
  {
   "cell_type": "code",
   "execution_count": 12,
   "metadata": {},
   "outputs": [
    {
     "name": "stdout",
     "output_type": "stream",
     "text": [
      "Std of the prices inside a restaurant:  11.3 €\n"
     ]
    }
   ],
   "source": [
    "print('Std of the prices inside a restaurant: ', data.groupby(data.rest_name).item_price.std().mean().round(1), '€')"
   ]
  },
  {
   "cell_type": "markdown",
   "metadata": {},
   "source": [
    "### Statistics on the nb of words in the items' texts"
   ]
  },
  {
   "cell_type": "code",
   "execution_count": 13,
   "metadata": {},
   "outputs": [
    {
     "data": {
      "text/plain": [
       "mean     5.241991\n",
       "std      4.034759\n",
       "min      1.000000\n",
       "25%      3.000000\n",
       "50%      4.000000\n",
       "75%      7.000000\n",
       "max     46.000000\n",
       "Name: item_length, dtype: float64"
      ]
     },
     "execution_count": 13,
     "metadata": {},
     "output_type": "execute_result"
    }
   ],
   "source": [
    "data['item_length'] = data['item'].apply(lambda x: len(x.split()))\n",
    "data['item_length'].describe()[1:]"
   ]
  },
  {
   "cell_type": "code",
   "execution_count": 14,
   "metadata": {},
   "outputs": [
    {
     "data": {
      "image/png": "[encoded data removed]",
      "text/plain": [
       "<matplotlib.figure.Figure at 0x7f0a7ec57438>"
      ]
     },
     "metadata": {},
     "output_type": "display_data"
    }
   ],
   "source": [
    "data[data.item_length<30].item_length.hist(bins = 31);"
   ]
  },
  {
   "cell_type": "markdown",
   "metadata": {
    "collapsed": true
   },
   "source": [
    "### Handling tags "
   ]
  },
  {
   "cell_type": "code",
   "execution_count": 15,
   "metadata": {},
   "outputs": [
    {
     "data": {
      "text/html": [
       "<div>\n",
       "<style>\n",
       "    .dataframe thead tr:only-child th {\n",
       "        text-align: right;\n",
       "    }\n",
       "\n",
       "    .dataframe thead th {\n",
       "        text-align: left;\n",
       "    }\n",
       "\n",
       "    .dataframe tbody tr th {\n",
       "        vertical-align: top;\n",
       "    }\n",
       "</style>\n",
       "<table border=\"1\" class=\"dataframe\">\n",
       "  <thead>\n",
       "    <tr style=\"text-align: right;\">\n",
       "      <th></th>\n",
       "      <th>rest_name</th>\n",
       "      <th>item</th>\n",
       "      <th>item_price</th>\n",
       "      <th>rest_url</th>\n",
       "      <th>rest_global_rating</th>\n",
       "      <th>rest_avg_price</th>\n",
       "      <th>rest_location</th>\n",
       "      <th>rest_tags</th>\n",
       "      <th>item_length</th>\n",
       "    </tr>\n",
       "  </thead>\n",
       "  <tbody>\n",
       "    <tr>\n",
       "      <th>0</th>\n",
       "      <td>Les Garcons Bouchers</td>\n",
       "      <td>Bruschetta Foie de Volaille sur nid de Roquett...</td>\n",
       "      <td>10.0</td>\n",
       "      <td>https://www.lafourchette.com/restaurant/les-ga...</td>\n",
       "      <td>8.6</td>\n",
       "      <td>36.0</td>\n",
       "      <td>0</td>\n",
       "      <td>['Français', 'Bistrot', 'Entre amis', 'Anniver...</td>\n",
       "      <td>12</td>\n",
       "    </tr>\n",
       "    <tr>\n",
       "      <th>1</th>\n",
       "      <td>Les Garcons Bouchers</td>\n",
       "      <td>Planche de charcuteries (à partager à 2 ou 3 p...</td>\n",
       "      <td>25.0</td>\n",
       "      <td>https://www.lafourchette.com/restaurant/les-ga...</td>\n",
       "      <td>8.6</td>\n",
       "      <td>36.0</td>\n",
       "      <td>0</td>\n",
       "      <td>[]</td>\n",
       "      <td>10</td>\n",
       "    </tr>\n",
       "    <tr>\n",
       "      <th>2</th>\n",
       "      <td>Les Garcons Bouchers</td>\n",
       "      <td>Poêlé de Foie de Volaille sur Nid de Roquette</td>\n",
       "      <td>14.0</td>\n",
       "      <td>https://www.lafourchette.com/restaurant/les-ga...</td>\n",
       "      <td>8.6</td>\n",
       "      <td>36.0</td>\n",
       "      <td>0</td>\n",
       "      <td>[]</td>\n",
       "      <td>9</td>\n",
       "    </tr>\n",
       "    <tr>\n",
       "      <th>3</th>\n",
       "      <td>Les Garcons Bouchers</td>\n",
       "      <td>Le Hamburger Rossini 200 gr</td>\n",
       "      <td>26.0</td>\n",
       "      <td>https://www.lafourchette.com/restaurant/les-ga...</td>\n",
       "      <td>8.6</td>\n",
       "      <td>36.0</td>\n",
       "      <td>0</td>\n",
       "      <td>[]</td>\n",
       "      <td>5</td>\n",
       "    </tr>\n",
       "    <tr>\n",
       "      <th>4</th>\n",
       "      <td>Les Garcons Bouchers</td>\n",
       "      <td>La côte de Bœuf ~ 500 gr</td>\n",
       "      <td>33.0</td>\n",
       "      <td>https://www.lafourchette.com/restaurant/les-ga...</td>\n",
       "      <td>8.6</td>\n",
       "      <td>36.0</td>\n",
       "      <td>0</td>\n",
       "      <td>[]</td>\n",
       "      <td>7</td>\n",
       "    </tr>\n",
       "  </tbody>\n",
       "</table>\n",
       "</div>"
      ],
      "text/plain": [
       "              rest_name                                               item  \\\n",
       "0  Les Garcons Bouchers  Bruschetta Foie de Volaille sur nid de Roquett...   \n",
       "1  Les Garcons Bouchers  Planche de charcuteries (à partager à 2 ou 3 p...   \n",
       "2  Les Garcons Bouchers      Poêlé de Foie de Volaille sur Nid de Roquette   \n",
       "3  Les Garcons Bouchers                        Le Hamburger Rossini 200 gr   \n",
       "4  Les Garcons Bouchers                           La côte de Bœuf ~ 500 gr   \n",
       "\n",
       "   item_price                                           rest_url  \\\n",
       "0        10.0  https://www.lafourchette.com/restaurant/les-ga...   \n",
       "1        25.0  https://www.lafourchette.com/restaurant/les-ga...   \n",
       "2        14.0  https://www.lafourchette.com/restaurant/les-ga...   \n",
       "3        26.0  https://www.lafourchette.com/restaurant/les-ga...   \n",
       "4        33.0  https://www.lafourchette.com/restaurant/les-ga...   \n",
       "\n",
       "   rest_global_rating  rest_avg_price  rest_location  \\\n",
       "0                 8.6            36.0              0   \n",
       "1                 8.6            36.0              0   \n",
       "2                 8.6            36.0              0   \n",
       "3                 8.6            36.0              0   \n",
       "4                 8.6            36.0              0   \n",
       "\n",
       "                                           rest_tags  item_length  \n",
       "0  ['Français', 'Bistrot', 'Entre amis', 'Anniver...           12  \n",
       "1                                                 []           10  \n",
       "2                                                 []            9  \n",
       "3                                                 []            5  \n",
       "4                                                 []            7  "
      ]
     },
     "execution_count": 15,
     "metadata": {},
     "output_type": "execute_result"
    }
   ],
   "source": [
    "data.head()"
   ]
  },
  {
   "cell_type": "code",
   "execution_count": 16,
   "metadata": {
    "collapsed": true
   },
   "outputs": [],
   "source": [
    "from ast import literal_eval\n",
    "data.rest_tags = data.rest_tags.apply(literal_eval)\n"
   ]
  },
  {
   "cell_type": "code",
   "execution_count": 17,
   "metadata": {},
   "outputs": [
    {
     "name": "stdout",
     "output_type": "stream",
     "text": [
      "Number of different tags:  243\n",
      "Tag properties: \n",
      "\n"
     ]
    },
    {
     "data": {
      "text/plain": [
       "mean    11.273755\n",
       "std      3.051121\n",
       "min      5.000000\n",
       "25%      9.000000\n",
       "50%     11.000000\n",
       "75%     13.000000\n",
       "max     38.000000\n",
       "Name: rest_tags, dtype: float64"
      ]
     },
     "execution_count": 17,
     "metadata": {},
     "output_type": "execute_result"
    }
   ],
   "source": [
    "tags =  data.drop_duplicates(['rest_name']).rest_tags\n",
    "\n",
    "all_tags =  set.union(*map(set, tags))\n",
    "print(\"Number of different tags: \", len(all_tags))\n",
    "print(\"Tag properties: \\n\")\n",
    "tags.apply(lambda l: len(set(l))).describe()[1:]"
   ]
  },
  {
   "cell_type": "code",
   "execution_count": 18,
   "metadata": {},
   "outputs": [
    {
     "data": {
      "text/plain": [
       "[('...', 4599),\n",
       " ('Île-de-France', 4597),\n",
       " ('Français', 4140),\n",
       " ('Traditionnel', 2240),\n",
       " ('Italien', 1976),\n",
       " (\"Certificat d'Excellence TripAdvisor 2017\", 1318),\n",
       " ('Paris - Centre', 1192),\n",
       " ('Les mieux notés', 856),\n",
       " ('Bistrot', 843),\n",
       " ('Plats végétariens', 840),\n",
       " ('Branché', 749),\n",
       " ('Japonais', 644),\n",
       " ('Indien', 640),\n",
       " ('World food', 624),\n",
       " ('Opéra - Grands Boulevards', 595),\n",
       " ('Asiatique', 500),\n",
       " ('Américain', 481),\n",
       " ('Thailandais', 466),\n",
       " ('Chinois', 457),\n",
       " ('Brasserie', 393),\n",
       " ('Libanais', 393),\n",
       " ('Bastille', 390),\n",
       " ('Anniversaire', 371),\n",
       " ('Paris 9ème', 368),\n",
       " ('Crêperie', 360)]"
      ]
     },
     "execution_count": 18,
     "metadata": {},
     "output_type": "execute_result"
    }
   ],
   "source": [
    "from collections import Counter\n",
    "most_frequent = Counter()\n",
    "\n",
    "for item in tags:\n",
    "    most_frequent.update(set(item))\n",
    "    \n",
    "most_frequent.most_common(25)"
   ]
  },
  {
   "cell_type": "code",
   "execution_count": 19,
   "metadata": {},
   "outputs": [],
   "source": [
    "# Remove \"...\"\n",
    "most_frequent_tags = [i[0] for i in most_frequent.most_common(25)[1:]]\n",
    "# Build the lists\n"
   ]
  },
  {
   "cell_type": "code",
   "execution_count": 20,
   "metadata": {
    "collapsed": true
   },
   "outputs": [],
   "source": [
    "lengths = data.rest_name.value_counts().to_dict()\n",
    "has_tags = {tag: [] for tag in most_frequent_tags}\n",
    "for  _, (rest, tags_list) in data.drop_duplicates(['rest_name'])[['rest_name', 'rest_tags']].iterrows():\n",
    "    length = lengths[rest]\n",
    "    for tag in most_frequent_tags:\n",
    "        if tag in tags_list:\n",
    "            has_tags[tag].extend([1]*length)\n",
    "        else:\n",
    "            has_tags[tag].extend([0]*length)"
   ]
  },
  {
   "cell_type": "code",
   "execution_count": 21,
   "metadata": {
    "collapsed": true
   },
   "outputs": [],
   "source": [
    "for tag, values in has_tags.items():\n",
    "    data[tag] = values"
   ]
  },
  {
   "cell_type": "code",
   "execution_count": 22,
   "metadata": {
    "collapsed": true
   },
   "outputs": [],
   "source": [
    "# Black magic ahead\n",
    "n_tags_col = []\n",
    "for rest, n_tags in zip(data.rest_name.drop_duplicates(), tags.apply(lambda l: len(set(l)))):\n",
    "    n_tags_col.extend([n_tags] * lengths[rest])\n",
    "data[\"n_tags\"] = n_tags_col"
   ]
  },
  {
   "cell_type": "markdown",
   "metadata": {},
   "source": [
    "### Machine learning wizardry"
   ]
  },
  {
   "cell_type": "markdown",
   "metadata": {},
   "source": [
    "#### We are now writing in data_ml because we're doing transformations which suck for visualization\n",
    "#### Anything that helps visualization should go above and also change data"
   ]
  },
  {
   "cell_type": "code",
   "execution_count": 26,
   "metadata": {
    "collapsed": true
   },
   "outputs": [],
   "source": [
    "from sklearn.preprocessing import LabelEncoder\n",
    "\n",
    "\n",
    "data_ml = data.drop([\"rest_url\", \"rest_tags\"], axis=1).copy()\n",
    "rest_name = LabelEncoder()\n",
    "rest_name.fit(data_ml.rest_name)\n",
    "data_ml.rest_name = rest_name.transform(data_ml.rest_name)"
   ]
  },
  {
   "cell_type": "code",
   "execution_count": 27,
   "metadata": {
    "collapsed": true
   },
   "outputs": [],
   "source": [
    "def restaurantKfold(n_splits=5, shuffle=True):\n",
    "    length = data_ml.rest_name.nunique()\n",
    "    restaurants = data_ml.rest_name.unique()\n",
    "    if shuffle:\n",
    "        np.random.shuffle(restaurants)\n",
    "    for i in range(n_splits):\n",
    "        test = restaurants[int(length*i/n_splits):int(length*(i+1)/n_splits)]\n",
    "        mask = data_ml.rest_name.isin(test)\n",
    "        yield ~mask, mask"
   ]
  },
  {
   "cell_type": "code",
   "execution_count": 40,
   "metadata": {},
   "outputs": [
    {
     "name": "stdout",
     "output_type": "stream",
     "text": [
      "Handling fold:  1\n",
      "Handling fold:  2\n",
      "Handling fold:  3\n",
      "Handling fold:  4\n",
      "Handling fold:  5\n"
     ]
    }
   ],
   "source": [
    "# Ideally we would use MAE instead of MSE for RFR but this crashes here\n",
    "# https://github.com/scikit-learn/scikit-learn/issues/7811\n",
    "\n",
    "from sklearn.ensemble import RandomForestRegressor, GradientBoostingRegressor\n",
    "from sklearn.metrics import mean_squared_error, mean_absolute_error\n",
    "\n",
    "\n",
    "clf = RandomForestRegressor(n_estimators=35, criterion=\"mse\")\n",
    "clf = GradientBoostingRegressor()\n",
    "scores = []\n",
    "\n",
    "for i, (tr_ix, te_ix) in enumerate(restaurantKfold()):\n",
    "    print(\"Handling fold: \", i+1)\n",
    "    train_X, train_y = data_ml.drop(['item', 'item_price', 'rest_name'], axis=1).loc[tr_ix], data_ml.item_price.loc[tr_ix]\n",
    "    test_X, test_y = data_ml.drop(['item', 'item_price', 'rest_name'], axis=1).loc[te_ix], data_ml.item_price.loc[te_ix]\n",
    "    clf.fit(train_X, train_y)\n",
    "    preds = clf.predict(test_X)\n",
    "    scores.append(mean_absolute_error(test_y, preds))"
   ]
  },
  {
   "cell_type": "code",
   "execution_count": 41,
   "metadata": {},
   "outputs": [
    {
     "name": "stdout",
     "output_type": "stream",
     "text": [
      "Mean:  7.6\n",
      "Std.:  0.18\n"
     ]
    }
   ],
   "source": [
    "scores = np.array(scores)\n",
    "print(\"Mean: \", scores.mean().round(2))\n",
    "print(\"Std.: \", scores.std().round(2))"
   ]
  },
  {
   "cell_type": "code",
   "execution_count": 37,
   "metadata": {},
   "outputs": [
    {
     "name": "stdout",
     "output_type": "stream",
     "text": [
      "rest_global_rating 9.03%\n",
      "rest_avg_price 28.79%\n",
      "rest_location 7.82%\n",
      "item_length 19.66%\n",
      "Île-de-France 0.01%\n",
      "Français 0.89%\n",
      "Traditionnel 1.63%\n",
      "Italien 1.68%\n",
      "Certificat d'Excellence TripAdvisor 2017 1.56%\n",
      "Paris - Centre 1.67%\n",
      "Les mieux notés 1.28%\n",
      "Bistrot 1.62%\n",
      "Plats végétariens 1.24%\n",
      "Branché 1.24%\n",
      "Japonais 1.04%\n",
      "Indien 1.10%\n",
      "World food 1.17%\n",
      "Opéra - Grands Boulevards 0.96%\n",
      "Asiatique 1.03%\n",
      "Américain 1.05%\n",
      "Thailandais 1.56%\n",
      "Chinois 0.84%\n",
      "Brasserie 1.18%\n",
      "Libanais 1.02%\n",
      "Bastille 0.97%\n",
      "Anniversaire 0.82%\n",
      "Paris 9ème 0.72%\n",
      "Crêperie 0.89%\n",
      "n_tags 7.53%\n"
     ]
    }
   ],
   "source": [
    "for feat, imp in zip(data_ml.drop(['item', 'item_price', 'rest_name'], axis=1).columns, clf.feature_importances_*100):\n",
    "    print(feat, \"{0:.2f}%\".format(imp))"
   ]
  }
 ],
 "metadata": {
  "kernelspec": {
   "display_name": "Python 3",
   "language": "python",
   "name": "python3"
  },
  "language_info": {
   "codemirror_mode": {
    "name": "ipython",
    "version": 3
   },
   "file_extension": ".py",
   "mimetype": "text/x-python",
   "name": "python",
   "nbconvert_exporter": "python",
   "pygments_lexer": "ipython3",
   "version": "3.6.3"
  }
 },
 "nbformat": 4,
 "nbformat_minor": 2
}
