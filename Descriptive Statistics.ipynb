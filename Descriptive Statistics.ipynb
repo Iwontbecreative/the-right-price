{
 "cells": [
  {
   "cell_type": "code",
   "execution_count": 31,
   "metadata": {},
   "outputs": [],
   "source": [
    "%matplotlib inline\n",
    "import numpy as np\n",
    "import pandas as pd\n",
    "import matplotlib.pyplot as plt"
   ]
  },
  {
   "cell_type": "code",
   "execution_count": 2,
   "metadata": {},
   "outputs": [],
   "source": [
    "data = pd.read_csv('all_items_improved.csv', sep=',')"
   ]
  },
  {
   "cell_type": "markdown",
   "metadata": {},
   "source": [
    "#### Potential bugs found :\n",
    "- numbers in the menu item text (meat weight for instance, nb of snails 6/12 + price in the text)\n",
    "- prices negative (special offers for lunch menus, ..)\n",
    "- zip codes missing\n",
    "- comma forgotten in the price (2700 instead of 27,00)\n",
    "\n",
    "#### Observations : \n",
    "- tags only in the first row of each restaurants\n",
    "- rest_avg_price often overpriced (close to worst case scenario)"
   ]
  },
  {
   "cell_type": "markdown",
   "metadata": {},
   "source": [
    "## Improving/Debugging the data"
   ]
  },
  {
   "cell_type": "markdown",
   "metadata": {},
   "source": [
    "### Supressing negative price (special offers on the menu, ex : -1e for lunch)"
   ]
  },
  {
   "cell_type": "code",
   "execution_count": 14,
   "metadata": {
    "collapsed": true
   },
   "outputs": [],
   "source": [
    "data = data[data.item_price > 0]"
   ]
  },
  {
   "cell_type": "markdown",
   "metadata": {},
   "source": [
    "### 'location' feature, switching to zip codes"
   ]
  },
  {
   "cell_type": "code",
   "execution_count": 5,
   "metadata": {},
   "outputs": [],
   "source": [
    "data['rest_location'] = data['rest_location'].apply(lambda x: x.split(\"\\n\")[1].strip())\n",
    "data['rest_location'] = data['rest_location'].replace('', '0').replace('Bercy Village', '0').astype(int)"
   ]
  },
  {
   "cell_type": "code",
   "execution_count": 7,
   "metadata": {},
   "outputs": [
    {
     "data": {
      "text/plain": [
       "array([    0, 75002, 75018, 75015, 75006, 75010, 75017, 75014, 75008,\n",
       "       75012, 75003, 75011, 75005, 75001, 75007, 75020, 75019, 75004,\n",
       "       75116, 75013, 75009, 75016])"
      ]
     },
     "execution_count": 7,
     "metadata": {},
     "output_type": "execute_result"
    }
   ],
   "source": [
    "data['rest_location'].unique()"
   ]
  },
  {
   "cell_type": "markdown",
   "metadata": {},
   "source": [
    "### Dropping item_prices with prices over 200e \n",
    "##### (noise + errors in the comma location most of the times), will only affect a little our predictions for wine and champagne"
   ]
  },
  {
   "cell_type": "code",
   "execution_count": 65,
   "metadata": {
    "collapsed": true
   },
   "outputs": [],
   "source": [
    "data = data[data.item_price < 200]"
   ]
  },
  {
   "cell_type": "markdown",
   "metadata": {},
   "source": [
    "## Descriptive Statistics"
   ]
  },
  {
   "cell_type": "markdown",
   "metadata": {},
   "source": [
    "### Dataset Size"
   ]
  },
  {
   "cell_type": "code",
   "execution_count": 66,
   "metadata": {},
   "outputs": [
    {
     "name": "stdout",
     "output_type": "stream",
     "text": [
      "Number of restaurants : 4599\n",
      "Number of menu items : 80379\n"
     ]
    }
   ],
   "source": [
    "print('Number of restaurants : ' + str(len(data.rest_name.unique())))\n",
    "print('Number of menu items : ' + str(len(data.rest_name)))"
   ]
  },
  {
   "cell_type": "markdown",
   "metadata": {},
   "source": [
    "### Menu items prices Distribution"
   ]
  },
  {
   "cell_type": "code",
   "execution_count": 86,
   "metadata": {},
   "outputs": [
    {
     "data": {
      "text/plain": [
       "mean     13.9\n",
       "std      13.9\n",
       "min       0.6\n",
       "25%       6.0\n",
       "50%      10.0\n",
       "75%      16.5\n",
       "max     199.0\n",
       "Name: item_price, dtype: float64"
      ]
     },
     "execution_count": 86,
     "metadata": {},
     "output_type": "execute_result"
    }
   ],
   "source": [
    "data.item_price.describe()[1:].round(1)"
   ]
  },
  {
   "cell_type": "code",
   "execution_count": 54,
   "metadata": {},
   "outputs": [
    {
     "name": "stdout",
     "output_type": "stream",
     "text": [
      "Proportion of items < 10e : 49.42%\n",
      "Proportion of items > 100e : 0.24%\n"
     ]
    },
    {
     "data": {
      "text/plain": [
       "<matplotlib.text.Text at 0x117ae9828>"
      ]
     },
     "execution_count": 54,
     "metadata": {},
     "output_type": "execute_result"
    },
    {
     "data": {
      "image/png": "[encoded data removed]",
      "text/plain": [
       "<matplotlib.figure.Figure at 0x11cac3c18>"
      ]
     },
     "metadata": {},
     "output_type": "display_data"
    }
   ],
   "source": [
    "nb_items = float(len(data.item_price))\n",
    "print('Proportion of items < 10e : ' + str(round(100*len(data[data.item_price < 10].rest_name)/nb_items,2)) +'%')\n",
    "print('Proportion of items > 100e : ' + str(round(100*len(data[data.item_price > 100].rest_name)/nb_items,2))+'%')\n",
    "\n",
    "a=plt.hist(data[data.item_price < 100].item_price, bins=50)\n",
    "plt.title('Menu items prices Distribution', fontsize = 14)"
   ]
  },
  {
   "cell_type": "markdown",
   "metadata": {},
   "source": [
    "### The Fork average prices / ratings"
   ]
  },
  {
   "cell_type": "code",
   "execution_count": 85,
   "metadata": {},
   "outputs": [
    {
     "data": {
      "text/html": [
       "<div>\n",
       "<style>\n",
       "    .dataframe thead tr:only-child th {\n",
       "        text-align: right;\n",
       "    }\n",
       "\n",
       "    .dataframe thead th {\n",
       "        text-align: left;\n",
       "    }\n",
       "\n",
       "    .dataframe tbody tr th {\n",
       "        vertical-align: top;\n",
       "    }\n",
       "</style>\n",
       "<table border=\"1\" class=\"dataframe\">\n",
       "  <thead>\n",
       "    <tr style=\"text-align: right;\">\n",
       "      <th></th>\n",
       "      <th>rest_avg_price</th>\n",
       "      <th>rest_global_rating</th>\n",
       "    </tr>\n",
       "  </thead>\n",
       "  <tbody>\n",
       "    <tr>\n",
       "      <th>mean</th>\n",
       "      <td>29.6</td>\n",
       "      <td>8.4</td>\n",
       "    </tr>\n",
       "    <tr>\n",
       "      <th>std</th>\n",
       "      <td>18.3</td>\n",
       "      <td>1.0</td>\n",
       "    </tr>\n",
       "    <tr>\n",
       "      <th>min</th>\n",
       "      <td>9.0</td>\n",
       "      <td>2.0</td>\n",
       "    </tr>\n",
       "    <tr>\n",
       "      <th>25%</th>\n",
       "      <td>20.0</td>\n",
       "      <td>8.1</td>\n",
       "    </tr>\n",
       "    <tr>\n",
       "      <th>50%</th>\n",
       "      <td>25.0</td>\n",
       "      <td>8.6</td>\n",
       "    </tr>\n",
       "    <tr>\n",
       "      <th>75%</th>\n",
       "      <td>34.0</td>\n",
       "      <td>9.0</td>\n",
       "    </tr>\n",
       "    <tr>\n",
       "      <th>max</th>\n",
       "      <td>330.0</td>\n",
       "      <td>10.0</td>\n",
       "    </tr>\n",
       "  </tbody>\n",
       "</table>\n",
       "</div>"
      ],
      "text/plain": [
       "      rest_avg_price  rest_global_rating\n",
       "mean            29.6                 8.4\n",
       "std             18.3                 1.0\n",
       "min              9.0                 2.0\n",
       "25%             20.0                 8.1\n",
       "50%             25.0                 8.6\n",
       "75%             34.0                 9.0\n",
       "max            330.0                10.0"
      ]
     },
     "execution_count": 85,
     "metadata": {},
     "output_type": "execute_result"
    }
   ],
   "source": [
    "data.loc[data.rest_name.drop_duplicates().index][['rest_avg_price', 'rest_global_rating']].describe().round(1)[1:]"
   ]
  },
  {
   "cell_type": "markdown",
   "metadata": {},
   "source": [
    "### Price disparities between locations"
   ]
  },
  {
   "cell_type": "code",
   "execution_count": 168,
   "metadata": {},
   "outputs": [
    {
     "data": {
      "text/plain": [
       "<matplotlib.text.Text at 0x11e3feac8>"
      ]
     },
     "execution_count": 168,
     "metadata": {},
     "output_type": "execute_result"
    },
    {
     "data": {
      "image/png": "[encoded data removed]",
      "text/plain": [
       "<matplotlib.figure.Figure at 0x1190bffd0>"
      ]
     },
     "metadata": {},
     "output_type": "display_data"
    }
   ],
   "source": [
    "df = data.groupby(data.rest_name).first()\n",
    "price_location = df.groupby(df.rest_location).mean().rest_avg_price\n",
    "\n",
    "x_axis = range(len(price_location))\n",
    "big_fig = plt.figure(1,figsize=(15,7))\n",
    "fig = plt.subplot(111)\n",
    "fig.bar(x_axis, price_location.values)\n",
    "fig.set_xticks(x_axis)\n",
    "fig.set_xticklabels(price_location.index)\n",
    "fig.set_title('Price disparities between locations', fontsize=16)"
   ]
  },
  {
   "cell_type": "markdown",
   "metadata": {},
   "source": [
    "### Price standard deviation per restaurant"
   ]
  },
  {
   "cell_type": "code",
   "execution_count": 99,
   "metadata": {},
   "outputs": [
    {
     "name": "stdout",
     "output_type": "stream",
     "text": [
      "Std of the prices inside a restaurant : 11.3 euros\n"
     ]
    }
   ],
   "source": [
    "print('Std of the prices inside a restaurant : ' \n",
    "      + str(round(data.groupby(data.rest_name).std().item_price.mean(), 1)) + ' euros')"
   ]
  },
  {
   "cell_type": "markdown",
   "metadata": {},
   "source": [
    "### Statistics on the nb of words in the items' texts"
   ]
  },
  {
   "cell_type": "code",
   "execution_count": 138,
   "metadata": {},
   "outputs": [
    {
     "data": {
      "text/plain": [
       "mean     5.241991\n",
       "std      4.034759\n",
       "min      1.000000\n",
       "25%      3.000000\n",
       "50%      4.000000\n",
       "75%      7.000000\n",
       "max     46.000000\n",
       "Name: item_length, dtype: float64"
      ]
     },
     "execution_count": 138,
     "metadata": {},
     "output_type": "execute_result"
    }
   ],
   "source": [
    "data['item_length'] = data['item'].apply(lambda x: len(x.split()))\n",
    "data['item_length'].describe()[1:]"
   ]
  },
  {
   "cell_type": "code",
   "execution_count": 149,
   "metadata": {},
   "outputs": [
    {
     "data": {
      "image/png": "[encoded data removed]",
      "text/plain": [
       "<matplotlib.figure.Figure at 0x11da2a588>"
      ]
     },
     "metadata": {},
     "output_type": "display_data"
    }
   ],
   "source": [
    "a = plt.hist(data[data.item_length<30].item_length, bins = 30)"
   ]
  },
  {
   "cell_type": "code",
   "execution_count": null,
   "metadata": {},
   "outputs": [],
   "source": []
  },
  {
   "cell_type": "code",
   "execution_count": null,
   "metadata": {
    "collapsed": true
   },
   "outputs": [],
   "source": []
  }
 ],
 "metadata": {
  "kernelspec": {
   "display_name": "Python 3",
   "language": "python",
   "name": "python3"
  },
  "language_info": {
   "codemirror_mode": {
    "name": "ipython",
    "version": 3
   },
   "file_extension": ".py",
   "mimetype": "text/x-python",
   "name": "python",
   "nbconvert_exporter": "python",
   "pygments_lexer": "ipython3",
   "version": "3.6.1"
  }
 },
 "nbformat": 4,
 "nbformat_minor": 2
}
