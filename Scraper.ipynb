{
 "cells": [
  {
   "cell_type": "markdown",
   "metadata": {},
   "source": [
    "### Extracting the menu"
   ]
  },
  {
   "cell_type": "code",
   "execution_count": 3,
   "metadata": {
    "collapsed": true
   },
   "outputs": [],
   "source": [
    "import re\n",
    "import urllib.request\n",
    "from bs4 import BeautifulSoup\n",
    "\n",
    "#selenium imports\n",
    "#install geckodriver first and make sure you have selenium installed and firefox is a version > 53.0\n",
    "from selenium import webdriver\n",
    "from selenium.webdriver.common.by import By\n",
    "from selenium.webdriver.support.ui import WebDriverWait\n",
    "from selenium.webdriver.support import expected_conditions as EC"
   ]
  },
  {
   "cell_type": "code",
   "execution_count": 2,
   "metadata": {
    "collapsed": true
   },
   "outputs": [],
   "source": [
    "class Restaurant:\n",
    "    \"\"\"\n",
    "    Represents a restaurant with all the menu.\n",
    "    Used for scraping before covnerting everything to csv.\n",
    "    \"\"\"\n",
    "    def __init__(self, url):\n",
    "        self.url = url\n",
    "        \n",
    "    def scrape(self):\n",
    "        self.soup = BeautifulSoup(urllib.request.urlopen(url).read(), \"lxml\")\n",
    "        self.scrape_menu()\n",
    "        self.scrape_info()\n",
    "        self.clean_scraped()\n",
    "        \n",
    "        \n",
    "    def scrape_menu(self):\n",
    "        self.menu_items, self.menu_prices = map(self.scrape_all_class, \n",
    "                                                [\"cardCategory-itemTitle\",\"cardCategory-itemPrice\"])\n",
    "\n",
    "    def scrape_info(self):\n",
    "        self.avg_price = self.scrape_all_class(\"pull-left restaurantSummary-price\", True)\n",
    "        self.tags = self.scrape_all_class(\"restaurantTag\")\n",
    "        self.location = self.scrape_all_class(\"restaurantSummary-address\", True)\n",
    "        self.restaurant_name = self.scrape_all_class(\"restaurantSummary-name\", True)\n",
    "        self.glob_rating = self.scrape_all_class(\"rating-ratingValue\", True)\n",
    "        \n",
    "    def scrape_all_class(self, name, first=False):\n",
    "        if first:\n",
    "            return self.soup.find(class_=name)\n",
    "        else:\n",
    "            return self.soup.find_all(class_=name)\n",
    "        \n",
    "    def clean_scraped(self):\n",
    "        def get_clean_text(string):\n",
    "            return string.text.strip()\n",
    "        \n",
    "        def prices_as_numbers(price):\n",
    "            return float(replace_dict(price, {\"€\": \"\", \"\\xa0\": \"\", \",\": \".\", \" \": \"\"}))\n",
    "        \n",
    "        def replace_dict(text, changes):\n",
    "            for old, new in changes.items():\n",
    "                text = text.replace(old, new)\n",
    "            return text\n",
    "        \n",
    "        self.menu_items = map(get_clean_text, self.menu_items,)\n",
    "        self.tags = map(get_clean_text, self.tags,)\n",
    "        self.location = get_clean_text(self.location)\n",
    "        self.restaurant_name = get_clean_text(self.restaurant_name)\n",
    "        self.menu_prices = map(get_clean_text, self.menu_prices)\n",
    "        self.menu_prices = map(prices_as_numbers, self.menu_prices)\n",
    "        self.avg_price = prices_as_numbers(get_clean_text(self.avg_price)[-8:])\n",
    "        self.glob_rating = prices_as_numbers(get_clean_text(self.glob_rating))\n",
    "    \n",
    "    def iter_menu(self):\n",
    "        for item, price in zip(self.menu_items, self.menu_prices):\n",
    "            yield (self.restaurant_name, item, price, self.url, self.glob_rating, self.avg_price,\n",
    "                   self.location, list(self.tags))"
   ]
  },
  {
   "cell_type": "markdown",
   "metadata": {},
   "source": [
    "#### Example"
   ]
  },
  {
   "cell_type": "code",
   "execution_count": 14,
   "metadata": {
    "collapsed": true
   },
   "outputs": [],
   "source": [
    "url = \"https://www.lafourchette.com/restaurant/le-23-clauzel-julie-riviere/6999\"\n",
    "rest = Restaurant(url)\n",
    "rest.scrape()\n"
   ]
  },
  {
   "cell_type": "markdown",
   "metadata": {},
   "source": [
    "### Extracting the list of restaurants?"
   ]
  },
  {
   "cell_type": "code",
   "execution_count": 1,
   "metadata": {
    "collapsed": true
   },
   "outputs": [],
   "source": [
    "def wait(dr, x, t,i):\n",
    "    element = WebDriverWait(dr, t).until(EC.text_to_be_present_in_element((By.XPATH, x),i))\n",
    "    return element"
   ]
  },
  {
   "cell_type": "code",
   "execution_count": 8,
   "metadata": {},
   "outputs": [
    {
     "data": {
      "text/plain": [
       "['https://www.lafourchette.com//restaurant/la-charrette-creole/47259',\n",
       " 'https://www.lafourchette.com//restaurant/la-charrette-creole/47259',\n",
       " 'https://www.lafourchette.com//restaurant/les-domaines-qui-montent/265887',\n",
       " 'https://www.lafourchette.com//restaurant/les-domaines-qui-montent/265887',\n",
       " 'https://www.lafourchette.com//restaurant/dochilak-batignolles/314091',\n",
       " 'https://www.lafourchette.com//restaurant/dochilak-batignolles/314091',\n",
       " 'https://www.lafourchette.com//restaurant/le-safari/18559',\n",
       " 'https://www.lafourchette.com//restaurant/le-safari/18559',\n",
       " 'https://www.lafourchette.com//restaurant/le-cafe-de-mars/29923',\n",
       " 'https://www.lafourchette.com//restaurant/le-cafe-de-mars/29923',\n",
       " 'https://www.lafourchette.com//restaurant/laduree-paris-royale/5141',\n",
       " 'https://www.lafourchette.com//restaurant/laduree-paris-royale/5141',\n",
       " 'https://www.lafourchette.com//restaurant/laduree-paris-royale/5141',\n",
       " 'https://www.lafourchette.com//restaurant/flora-danica/25988',\n",
       " 'https://www.lafourchette.com//restaurant/flora-danica/25988',\n",
       " 'https://www.lafourchette.com//restaurant/le-taste-monde/16105',\n",
       " 'https://www.lafourchette.com//restaurant/le-taste-monde/16105',\n",
       " 'https://www.lafourchette.com//restaurant/le-taste-monde/16105',\n",
       " 'https://www.lafourchette.com//restaurant/la-maison-bleue/64239',\n",
       " 'https://www.lafourchette.com//restaurant/la-maison-bleue/64239',\n",
       " 'https://www.lafourchette.com//restaurant/isla-calaca/296281',\n",
       " 'https://www.lafourchette.com//restaurant/isla-calaca/296281',\n",
       " 'https://www.lafourchette.com//restaurant/baan-boran/30121',\n",
       " 'https://www.lafourchette.com//restaurant/baan-boran/30121',\n",
       " 'https://www.lafourchette.com//restaurant/il-goto/30726',\n",
       " 'https://www.lafourchette.com//restaurant/il-goto/30726',\n",
       " 'https://www.lafourchette.com//restaurant/cafe-lumiere/68562',\n",
       " 'https://www.lafourchette.com//restaurant/cafe-lumiere/68562',\n",
       " 'https://www.lafourchette.com//restaurant/restaurant-paul/30306',\n",
       " 'https://www.lafourchette.com//restaurant/restaurant-paul/30306',\n",
       " 'https://www.lafourchette.com//restaurant/la-nouvelle-cantine/298959',\n",
       " 'https://www.lafourchette.com//restaurant/la-nouvelle-cantine/298959',\n",
       " 'https://www.lafourchette.com//restaurant/assaggio-hotel-castille/6120',\n",
       " 'https://www.lafourchette.com//restaurant/assaggio-hotel-castille/6120',\n",
       " 'https://www.lafourchette.com//restaurant/assaggio-hotel-castille/6120',\n",
       " 'https://www.lafourchette.com//restaurant/clasico-argentino/330007',\n",
       " 'https://www.lafourchette.com//restaurant/clasico-argentino/330007',\n",
       " 'https://www.lafourchette.com//restaurant/comptoir-moderne/208907',\n",
       " 'https://www.lafourchette.com//restaurant/comptoir-moderne/208907',\n",
       " 'https://www.lafourchette.com//restaurant/le-bistro-des-galopins/37543',\n",
       " 'https://www.lafourchette.com//restaurant/le-bistro-des-galopins/37543',\n",
       " 'https://www.lafourchette.com//restaurant/le-bistro-des-galopins/37543',\n",
       " 'https://www.lafourchette.com//restaurant/simone-et-les-garcons/46286',\n",
       " 'https://www.lafourchette.com//restaurant/simone-et-les-garcons/46286',\n",
       " 'https://www.lafourchette.com//restaurant/l-epidon/301111',\n",
       " 'https://www.lafourchette.com//restaurant/l-epidon/301111',\n",
       " 'https://www.lafourchette.com//restaurant/juste-le-zinc/53224',\n",
       " 'https://www.lafourchette.com//restaurant/juste-le-zinc/53224',\n",
       " 'https://www.lafourchette.com//restaurant/fondue-factory/29414',\n",
       " 'https://www.lafourchette.com//restaurant/fondue-factory/29414',\n",
       " 'https://www.lafourchette.com//restaurant/le-cent-huit/35973',\n",
       " 'https://www.lafourchette.com//restaurant/le-cent-huit/35973',\n",
       " 'https://www.lafourchette.com//restaurant/le-cent-huit/35973',\n",
       " 'https://www.lafourchette.com//restaurant/la-lorraine-paris/25910',\n",
       " 'https://www.lafourchette.com//restaurant/la-lorraine-paris/25910']"
      ]
     },
     "execution_count": 8,
     "metadata": {},
     "output_type": "execute_result"
    }
   ],
   "source": [
    "dr = webdriver.Firefox()\n",
    "dr.get(\"https://www.lafourchette.com/restaurant+paris#sort=QUALITY_DESC&page=105\")\n",
    "wait(dr,\"//li[@class='active']\",10,\"105\")\n",
    "soup = BeautifulSoup(dr.page_source,\"lxml\")\n",
    "base_url = \"https://www.lafourchette.com/\"\n",
    "pattern = re.compile(\"restaurant/[a-z-]+/[0-9]+$\")\n",
    "restaurants = []\n",
    "restaurants.extend(base_url + rest[\"href\"] for rest in soup.find_all(href=pattern))\n",
    "restaurants"
   ]
  },
  {
   "cell_type": "code",
   "execution_count": 21,
   "metadata": {
    "collapsed": true
   },
   "outputs": [],
   "source": [
    "#Buggy: see fb chat \n",
    "# Need to implement: \n",
    "# https://stackoverflow.com/questions/37953182/how-do-i-wait-through-a-wait-page-and-then-download-a-pdf-using-python\n",
    "\n",
    "#introducting the functions for wait times\n",
    "\n",
    "\n",
    "\n",
    "\n",
    "def find_restaurants():\n",
    "    \n",
    "    #dr = webdriver.PhantomJS()\n",
    "    base_url = \"https://www.lafourchette.com/\"\n",
    "    search_url = base_url + \"restaurant+paris#sort=QUALITY_DESC&page={}\"\n",
    "    pattern = re.compile(\"restaurant/[a-z-]+/[0-9]+$\")\n",
    "    restaurants = []\n",
    "    for i in range(1, 4):\n",
    "        if i % 1 == 0:\n",
    "            print(\"Handled {} pages, have {} restaurant urls\".format(i, len(restaurants)))\n",
    "        search_page = search_url.format(i)\n",
    "        soup = BeautifulSoup(urllib.request.urlopen(search_page).read(), \"lxml\")\n",
    "        restaurants.extend(base_url + rest[\"href\"] for rest in soup.find_all(href=pattern))\n",
    "    return restaurants\n"
   ]
  },
  {
   "cell_type": "code",
   "execution_count": 23,
   "metadata": {},
   "outputs": [
    {
     "name": "stdout",
     "output_type": "stream",
     "text": [
      "Handled 1 pages, have 0 restaurant urls\n",
      "Handled 2 pages, have 24 restaurant urls\n",
      "Handled 3 pages, have 48 restaurant urls\n"
     ]
    },
    {
     "data": {
      "text/plain": [
       "['https://www.lafourchette.com//restaurant/nem-hanoi/336555',\n",
       " 'https://www.lafourchette.com//restaurant/la-grande-cascade-frederic-robert/122',\n",
       " 'https://www.lafourchette.com//restaurant/o-friendly/338159',\n",
       " 'https://www.lafourchette.com//restaurant/aarchna/15964',\n",
       " 'https://www.lafourchette.com//restaurant/carte-blanche/4616',\n",
       " 'https://www.lafourchette.com//restaurant/copenhague/25985',\n",
       " 'https://www.lafourchette.com//restaurant/ao-izakaya/323811',\n",
       " 'https://www.lafourchette.com//restaurant/suraj/340043',\n",
       " 'https://www.lafourchette.com//restaurant/hao-long/215199',\n",
       " 'https://www.lafourchette.com//restaurant/bistrot-wattignies/330201',\n",
       " 'https://www.lafourchette.com//restaurant/upper-cafe-les-halles/342631',\n",
       " 'https://www.lafourchette.com//restaurant/les-rupins/295875',\n",
       " 'https://www.lafourchette.com//restaurant/perbacco/313673',\n",
       " 'https://www.lafourchette.com//restaurant/mayfair-garden/332645',\n",
       " 'https://www.lafourchette.com//restaurant/chez-petit-hugo/335287',\n",
       " 'https://www.lafourchette.com//restaurant/la-scene-theleme/269585',\n",
       " 'https://www.lafourchette.com//restaurant/tang-charly-tang/4963',\n",
       " 'https://www.lafourchette.com//restaurant/l-abeille-shangri-la-hotel-paris/8976',\n",
       " 'https://www.lafourchette.com//restaurant/le-baudelaire-hotel-le-burgundy-paris/9228',\n",
       " 'https://www.lafourchette.com//restaurant/autour-du-saumon-miron/463',\n",
       " 'https://www.lafourchette.com//restaurant/homies-del-mar/332873',\n",
       " 'https://www.lafourchette.com//restaurant/le-poulpry/19963',\n",
       " 'https://www.lafourchette.com//restaurant/mandaloune/299277',\n",
       " 'https://www.lafourchette.com//restaurant/sangeet/314719',\n",
       " 'https://www.lafourchette.com//restaurant/nem-hanoi/336555',\n",
       " 'https://www.lafourchette.com//restaurant/la-grande-cascade-frederic-robert/122',\n",
       " 'https://www.lafourchette.com//restaurant/o-friendly/338159',\n",
       " 'https://www.lafourchette.com//restaurant/aarchna/15964',\n",
       " 'https://www.lafourchette.com//restaurant/carte-blanche/4616',\n",
       " 'https://www.lafourchette.com//restaurant/copenhague/25985',\n",
       " 'https://www.lafourchette.com//restaurant/ao-izakaya/323811',\n",
       " 'https://www.lafourchette.com//restaurant/suraj/340043',\n",
       " 'https://www.lafourchette.com//restaurant/hao-long/215199',\n",
       " 'https://www.lafourchette.com//restaurant/bistrot-wattignies/330201',\n",
       " 'https://www.lafourchette.com//restaurant/upper-cafe-les-halles/342631',\n",
       " 'https://www.lafourchette.com//restaurant/les-rupins/295875',\n",
       " 'https://www.lafourchette.com//restaurant/perbacco/313673',\n",
       " 'https://www.lafourchette.com//restaurant/mayfair-garden/332645',\n",
       " 'https://www.lafourchette.com//restaurant/chez-petit-hugo/335287',\n",
       " 'https://www.lafourchette.com//restaurant/la-scene-theleme/269585',\n",
       " 'https://www.lafourchette.com//restaurant/tang-charly-tang/4963',\n",
       " 'https://www.lafourchette.com//restaurant/l-abeille-shangri-la-hotel-paris/8976',\n",
       " 'https://www.lafourchette.com//restaurant/le-baudelaire-hotel-le-burgundy-paris/9228',\n",
       " 'https://www.lafourchette.com//restaurant/autour-du-saumon-miron/463',\n",
       " 'https://www.lafourchette.com//restaurant/homies-del-mar/332873',\n",
       " 'https://www.lafourchette.com//restaurant/le-poulpry/19963',\n",
       " 'https://www.lafourchette.com//restaurant/mandaloune/299277',\n",
       " 'https://www.lafourchette.com//restaurant/sangeet/314719',\n",
       " 'https://www.lafourchette.com//restaurant/nem-hanoi/336555',\n",
       " 'https://www.lafourchette.com//restaurant/la-grande-cascade-frederic-robert/122',\n",
       " 'https://www.lafourchette.com//restaurant/o-friendly/338159',\n",
       " 'https://www.lafourchette.com//restaurant/aarchna/15964',\n",
       " 'https://www.lafourchette.com//restaurant/carte-blanche/4616',\n",
       " 'https://www.lafourchette.com//restaurant/copenhague/25985',\n",
       " 'https://www.lafourchette.com//restaurant/ao-izakaya/323811',\n",
       " 'https://www.lafourchette.com//restaurant/suraj/340043',\n",
       " 'https://www.lafourchette.com//restaurant/hao-long/215199',\n",
       " 'https://www.lafourchette.com//restaurant/bistrot-wattignies/330201',\n",
       " 'https://www.lafourchette.com//restaurant/upper-cafe-les-halles/342631',\n",
       " 'https://www.lafourchette.com//restaurant/les-rupins/295875',\n",
       " 'https://www.lafourchette.com//restaurant/perbacco/313673',\n",
       " 'https://www.lafourchette.com//restaurant/mayfair-garden/332645',\n",
       " 'https://www.lafourchette.com//restaurant/chez-petit-hugo/335287',\n",
       " 'https://www.lafourchette.com//restaurant/la-scene-theleme/269585',\n",
       " 'https://www.lafourchette.com//restaurant/tang-charly-tang/4963',\n",
       " 'https://www.lafourchette.com//restaurant/l-abeille-shangri-la-hotel-paris/8976',\n",
       " 'https://www.lafourchette.com//restaurant/le-baudelaire-hotel-le-burgundy-paris/9228',\n",
       " 'https://www.lafourchette.com//restaurant/autour-du-saumon-miron/463',\n",
       " 'https://www.lafourchette.com//restaurant/homies-del-mar/332873',\n",
       " 'https://www.lafourchette.com//restaurant/le-poulpry/19963',\n",
       " 'https://www.lafourchette.com//restaurant/mandaloune/299277',\n",
       " 'https://www.lafourchette.com//restaurant/sangeet/314719']"
      ]
     },
     "execution_count": 23,
     "metadata": {},
     "output_type": "execute_result"
    }
   ],
   "source": [
    "restaurants = find_restaurants()\n",
    "\n",
    "restaurants"
   ]
  },
  {
   "cell_type": "code",
   "execution_count": null,
   "metadata": {
    "collapsed": true
   },
   "outputs": [],
   "source": []
  }
 ],
 "metadata": {
  "kernelspec": {
   "display_name": "Python 3",
   "language": "python",
   "name": "python3"
  },
  "language_info": {
   "codemirror_mode": {
    "name": "ipython",
    "version": 3
   },
   "file_extension": ".py",
   "mimetype": "text/x-python",
   "name": "python",
   "nbconvert_exporter": "python",
   "pygments_lexer": "ipython3",
   "version": "3.6.2"
  }
 },
 "nbformat": 4,
 "nbformat_minor": 2
}
